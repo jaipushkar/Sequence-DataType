{
 "cells": [
  {
   "cell_type": "markdown",
   "id": "de9f6919-5630-4b9a-bbd7-91fb181288d5",
   "metadata": {},
   "source": [
    "### List"
   ]
  },
  {
   "cell_type": "code",
   "execution_count": 1,
   "id": "a8e2db83-49da-43d9-a755-5fff00d0aa23",
   "metadata": {},
   "outputs": [
    {
     "data": {
      "text/plain": [
       "list"
      ]
     },
     "execution_count": 1,
     "metadata": {},
     "output_type": "execute_result"
    }
   ],
   "source": [
    "lst=[]\n",
    "type(lst)"
   ]
  },
  {
   "cell_type": "code",
   "execution_count": 2,
   "id": "16cd79ff-4a9b-4bb9-814a-c6d02590ffdc",
   "metadata": {},
   "outputs": [
    {
     "data": {
      "text/plain": [
       "[10, 20, 30, 40]"
      ]
     },
     "execution_count": 2,
     "metadata": {},
     "output_type": "execute_result"
    }
   ],
   "source": [
    "mylst=[10,20,30,40]\n",
    "mylst"
   ]
  },
  {
   "cell_type": "code",
   "execution_count": 3,
   "id": "521ffc69-fec8-4f57-824a-2a924793012e",
   "metadata": {},
   "outputs": [
    {
     "data": {
      "text/plain": [
       "list"
      ]
     },
     "execution_count": 3,
     "metadata": {},
     "output_type": "execute_result"
    }
   ],
   "source": [
    "type(mylst)"
   ]
  },
  {
   "cell_type": "code",
   "execution_count": 4,
   "id": "3cf35310-b37d-4d71-bdee-2b3b745076ca",
   "metadata": {},
   "outputs": [
    {
     "data": {
      "text/plain": [
       "[10, 9.1, 'Python', [1, 2, 3], True]"
      ]
     },
     "execution_count": 4,
     "metadata": {},
     "output_type": "execute_result"
    }
   ],
   "source": [
    "# Hetrogeneous\n",
    "mylst=[10,9.1,'Python',[1,2,3],True]\n",
    "mylst"
   ]
  },
  {
   "cell_type": "markdown",
   "id": "3df6719f-69a6-419a-a111-99f0f7c32edf",
   "metadata": {},
   "source": [
    "### Tuples"
   ]
  },
  {
   "cell_type": "code",
   "execution_count": 5,
   "id": "2653d1ae-1fe9-4924-8465-2af15201dcc8",
   "metadata": {},
   "outputs": [
    {
     "data": {
      "text/plain": [
       "tuple"
      ]
     },
     "execution_count": 5,
     "metadata": {},
     "output_type": "execute_result"
    }
   ],
   "source": [
    "tup=()\n",
    "type(tup)"
   ]
  },
  {
   "cell_type": "code",
   "execution_count": 6,
   "id": "0e6beed3-c056-4885-9562-d2de8bbb8452",
   "metadata": {},
   "outputs": [
    {
     "data": {
      "text/plain": [
       "(40, 51, 60, 71)"
      ]
     },
     "execution_count": 6,
     "metadata": {},
     "output_type": "execute_result"
    }
   ],
   "source": [
    "tup=(40,51,60,71)\n",
    "tup"
   ]
  },
  {
   "cell_type": "code",
   "execution_count": 7,
   "id": "6002c22e-4918-46f4-8a7b-375f23db6960",
   "metadata": {},
   "outputs": [
    {
     "data": {
      "text/plain": [
       "tuple"
      ]
     },
     "execution_count": 7,
     "metadata": {},
     "output_type": "execute_result"
    }
   ],
   "source": [
    "type(tup)"
   ]
  },
  {
   "cell_type": "code",
   "execution_count": 8,
   "id": "ff17bc52-38dd-4848-b590-452c980dcc2d",
   "metadata": {},
   "outputs": [
    {
     "data": {
      "text/plain": [
       "(10, 9.1, 'Python', [1, 2, 3], True)"
      ]
     },
     "execution_count": 8,
     "metadata": {},
     "output_type": "execute_result"
    }
   ],
   "source": [
    "# Hetrogeneous\n",
    "tup=(10,9.1,'Python',[1,2,3],True)\n",
    "tup"
   ]
  },
  {
   "cell_type": "markdown",
   "id": "530fb981-9bd2-49a8-8a61-991eb639fa95",
   "metadata": {},
   "source": [
    "### String"
   ]
  },
  {
   "cell_type": "code",
   "execution_count": 9,
   "id": "7a379ba8-044e-4d7f-a724-b7dc79f05fa6",
   "metadata": {},
   "outputs": [
    {
     "data": {
      "text/plain": [
       "'Python'"
      ]
     },
     "execution_count": 9,
     "metadata": {},
     "output_type": "execute_result"
    }
   ],
   "source": [
    "mystr = 'Python'\n",
    "mystr"
   ]
  },
  {
   "cell_type": "code",
   "execution_count": 10,
   "id": "147224ba-d064-4ae4-8ce1-9deea508098e",
   "metadata": {},
   "outputs": [
    {
     "data": {
      "text/plain": [
       "str"
      ]
     },
     "execution_count": 10,
     "metadata": {},
     "output_type": "execute_result"
    }
   ],
   "source": [
    "type(mystr)"
   ]
  },
  {
   "cell_type": "markdown",
   "id": "c7926a8e-4a18-4524-9b27-bb08526869ea",
   "metadata": {},
   "source": [
    "+ List and Tuple -- Hetrogeneous -- You can put data of any type inside a list and tuple\n",
    "+ String -- Homogeneous -- Always consider is as string only whatever you put"
   ]
  },
  {
   "cell_type": "markdown",
   "id": "703545f5-1a82-4a3d-94ab-6462dcee0c68",
   "metadata": {},
   "source": [
    "##### Sequence \n",
    "+ Mutable -> list\n",
    "+ Immutable -> tuple,str\n",
    "\n",
    "+ list []\n",
    "+ tuple ()\n",
    "+ string \"\"\n",
    "  "
   ]
  },
  {
   "cell_type": "markdown",
   "id": "3291edc6-30f2-41a1-aa47-287f1a3a6da2",
   "metadata": {},
   "source": [
    "##### Common properties\n",
    "+ Positional indexing\n",
    "+ Iterable\n",
    "  "
   ]
  },
  {
   "cell_type": "markdown",
   "id": "e31c7e3b-dc21-49a1-918c-c4fcafe31a06",
   "metadata": {},
   "source": [
    "#### Positional Indexing \n"
   ]
  },
  {
   "cell_type": "markdown",
   "id": "f77a3fa1-3970-44ec-949d-3bfbeed6f285",
   "metadata": {},
   "source": [
    "+ List"
   ]
  },
  {
   "cell_type": "code",
   "execution_count": 11,
   "id": "902c9cf0-d00b-406d-a2ee-804a44db60ed",
   "metadata": {},
   "outputs": [],
   "source": [
    "lst=[23,45,32,89,76,56,73,66,55,43]"
   ]
  },
  {
   "cell_type": "code",
   "execution_count": 12,
   "id": "ae660505-32b9-4645-a537-3473bee0718d",
   "metadata": {},
   "outputs": [
    {
     "data": {
      "text/plain": [
       "32"
      ]
     },
     "execution_count": 12,
     "metadata": {},
     "output_type": "execute_result"
    }
   ],
   "source": [
    "lst[2]"
   ]
  },
  {
   "cell_type": "code",
   "execution_count": 14,
   "id": "f06c7d80-7e1d-4c29-beb6-c2723d8519e3",
   "metadata": {},
   "outputs": [
    {
     "data": {
      "text/plain": [
       "[32, 89, 76]"
      ]
     },
     "execution_count": 14,
     "metadata": {},
     "output_type": "execute_result"
    }
   ],
   "source": [
    "#Slicing \n",
    "\n",
    "lst[2:5]\n"
   ]
  },
  {
   "cell_type": "code",
   "execution_count": 15,
   "id": "acd6dca0-fb5c-4d9e-84b7-c1f162ade7e5",
   "metadata": {},
   "outputs": [
    {
     "data": {
      "text/plain": [
       "[23, 45, 32, 89, 76]"
      ]
     },
     "execution_count": 15,
     "metadata": {},
     "output_type": "execute_result"
    }
   ],
   "source": [
    "lst[:5]"
   ]
  },
  {
   "cell_type": "code",
   "execution_count": 16,
   "id": "f4d87a64-b9f9-41dc-87b7-8292dbc717e2",
   "metadata": {},
   "outputs": [
    {
     "data": {
      "text/plain": [
       "[89, 76, 56, 73, 66, 55, 43]"
      ]
     },
     "execution_count": 16,
     "metadata": {},
     "output_type": "execute_result"
    }
   ],
   "source": [
    "lst[3:]"
   ]
  },
  {
   "cell_type": "code",
   "execution_count": 17,
   "id": "4bbf9332-f43b-4cae-8b35-8237d0534094",
   "metadata": {},
   "outputs": [
    {
     "data": {
      "text/plain": [
       "[23, 45, 32, 89, 76, 56, 73, 66, 55, 43]"
      ]
     },
     "execution_count": 17,
     "metadata": {},
     "output_type": "execute_result"
    }
   ],
   "source": [
    "lst[:]"
   ]
  },
  {
   "cell_type": "code",
   "execution_count": 18,
   "id": "859f3463-3802-4692-9ab3-198ade585b32",
   "metadata": {},
   "outputs": [
    {
     "data": {
      "text/plain": [
       "[23, 45, 32, 89, 76, 56, 73, 66, 55, 43]"
      ]
     },
     "execution_count": 18,
     "metadata": {},
     "output_type": "execute_result"
    }
   ],
   "source": [
    "lst"
   ]
  },
  {
   "cell_type": "code",
   "execution_count": 19,
   "id": "19050bbd-d2c3-4927-8f77-ac44d120532c",
   "metadata": {},
   "outputs": [
    {
     "data": {
      "text/plain": [
       "[32, 56]"
      ]
     },
     "execution_count": 19,
     "metadata": {},
     "output_type": "execute_result"
    }
   ],
   "source": [
    "lst[2:8:3]"
   ]
  },
  {
   "cell_type": "code",
   "execution_count": 20,
   "id": "4316b7f8-e50c-416b-a6ca-92743ac3e6bf",
   "metadata": {},
   "outputs": [
    {
     "data": {
      "text/plain": [
       "[55, 66, 73, 56, 76, 89]"
      ]
     },
     "execution_count": 20,
     "metadata": {},
     "output_type": "execute_result"
    }
   ],
   "source": [
    "lst[8:2:-1]"
   ]
  },
  {
   "cell_type": "code",
   "execution_count": 21,
   "id": "4f7c78bc-cde5-4ffd-bc52-bf4d9c963d16",
   "metadata": {},
   "outputs": [
    {
     "data": {
      "text/plain": [
       "[43, 55, 66, 73, 56, 76, 89, 32, 45, 23]"
      ]
     },
     "execution_count": 21,
     "metadata": {},
     "output_type": "execute_result"
    }
   ],
   "source": [
    "lst[::-1]"
   ]
  },
  {
   "cell_type": "code",
   "execution_count": 22,
   "id": "b971d13e-1bb2-44dc-abd1-ddc7df9da849",
   "metadata": {},
   "outputs": [],
   "source": [
    "lst1= [1,2,[20,30,40],'abc',3.4]"
   ]
  },
  {
   "cell_type": "code",
   "execution_count": 23,
   "id": "da20fb4d-9fb9-4b65-9772-c1c2d3e27c20",
   "metadata": {},
   "outputs": [
    {
     "data": {
      "text/plain": [
       "[20, 30, 40]"
      ]
     },
     "execution_count": 23,
     "metadata": {},
     "output_type": "execute_result"
    }
   ],
   "source": [
    "lst1[2]"
   ]
  },
  {
   "cell_type": "code",
   "execution_count": 25,
   "id": "4147269c-ab81-4c41-8512-4974a89c4af5",
   "metadata": {},
   "outputs": [
    {
     "data": {
      "text/plain": [
       "30"
      ]
     },
     "execution_count": 25,
     "metadata": {},
     "output_type": "execute_result"
    }
   ],
   "source": [
    "lst1[2][1]"
   ]
  },
  {
   "cell_type": "markdown",
   "id": "54d50182-1f0e-438a-a34c-bdfd8192412c",
   "metadata": {},
   "source": [
    "+ Tuple"
   ]
  },
  {
   "cell_type": "code",
   "execution_count": 26,
   "id": "73ae5491-cdd4-4904-a1d7-b868ff45f5ea",
   "metadata": {},
   "outputs": [],
   "source": [
    "tup=(23,45,32,89,76,56,73,66,55,43)"
   ]
  },
  {
   "cell_type": "code",
   "execution_count": 28,
   "id": "316a1b82-4ba5-49e8-ad43-44f28b31ae17",
   "metadata": {},
   "outputs": [
    {
     "data": {
      "text/plain": [
       "tuple"
      ]
     },
     "execution_count": 28,
     "metadata": {},
     "output_type": "execute_result"
    }
   ],
   "source": [
    "type(tup)"
   ]
  },
  {
   "cell_type": "code",
   "execution_count": 29,
   "id": "80639478-0f72-4fdf-addb-9cf3e2e85953",
   "metadata": {},
   "outputs": [
    {
     "data": {
      "text/plain": [
       "32"
      ]
     },
     "execution_count": 29,
     "metadata": {},
     "output_type": "execute_result"
    }
   ],
   "source": [
    "tup[2]"
   ]
  },
  {
   "cell_type": "code",
   "execution_count": 30,
   "id": "b6a185ff-e716-4812-a86c-f0b895966a17",
   "metadata": {},
   "outputs": [
    {
     "data": {
      "text/plain": [
       "(32, 89, 76)"
      ]
     },
     "execution_count": 30,
     "metadata": {},
     "output_type": "execute_result"
    }
   ],
   "source": [
    "#Slicing \n",
    "\n",
    "tup[2:5]\n"
   ]
  },
  {
   "cell_type": "code",
   "execution_count": 31,
   "id": "ee9aaad8-2289-44c1-b635-bca6f2cd1da0",
   "metadata": {},
   "outputs": [
    {
     "data": {
      "text/plain": [
       "(23, 45, 32, 89, 76)"
      ]
     },
     "execution_count": 31,
     "metadata": {},
     "output_type": "execute_result"
    }
   ],
   "source": [
    "tup[:5]"
   ]
  },
  {
   "cell_type": "code",
   "execution_count": 32,
   "id": "6502e1e7-c14e-444a-8995-59a63ab8050b",
   "metadata": {},
   "outputs": [
    {
     "data": {
      "text/plain": [
       "(89, 76, 56, 73, 66, 55, 43)"
      ]
     },
     "execution_count": 32,
     "metadata": {},
     "output_type": "execute_result"
    }
   ],
   "source": [
    "tup[3:]"
   ]
  },
  {
   "cell_type": "code",
   "execution_count": 33,
   "id": "fe5d58bf-75f1-465c-9cca-701e53795c29",
   "metadata": {},
   "outputs": [
    {
     "data": {
      "text/plain": [
       "(23, 45, 32, 89, 76, 56, 73, 66, 55, 43)"
      ]
     },
     "execution_count": 33,
     "metadata": {},
     "output_type": "execute_result"
    }
   ],
   "source": [
    "tup[:]"
   ]
  },
  {
   "cell_type": "code",
   "execution_count": 34,
   "id": "c460c87b-8c35-4dcf-abfd-3068d654b913",
   "metadata": {},
   "outputs": [
    {
     "data": {
      "text/plain": [
       "(23, 45, 32, 89, 76, 56, 73, 66, 55, 43)"
      ]
     },
     "execution_count": 34,
     "metadata": {},
     "output_type": "execute_result"
    }
   ],
   "source": [
    "tup"
   ]
  },
  {
   "cell_type": "code",
   "execution_count": 35,
   "id": "74f1c6cd-9362-4759-8c9c-43084a0377b3",
   "metadata": {},
   "outputs": [
    {
     "data": {
      "text/plain": [
       "(32, 56)"
      ]
     },
     "execution_count": 35,
     "metadata": {},
     "output_type": "execute_result"
    }
   ],
   "source": [
    "tup[2:8:3]"
   ]
  },
  {
   "cell_type": "code",
   "execution_count": 36,
   "id": "413d2c2e-165d-4ad8-8ed0-a04bab6a3d44",
   "metadata": {},
   "outputs": [
    {
     "data": {
      "text/plain": [
       "(55, 66, 73, 56, 76, 89)"
      ]
     },
     "execution_count": 36,
     "metadata": {},
     "output_type": "execute_result"
    }
   ],
   "source": [
    "tup[8:2:-1]"
   ]
  },
  {
   "cell_type": "code",
   "execution_count": 37,
   "id": "84f305fa-d514-45f2-a039-525ba9bf4c35",
   "metadata": {},
   "outputs": [
    {
     "data": {
      "text/plain": [
       "(43, 55, 66, 73, 56, 76, 89, 32, 45, 23)"
      ]
     },
     "execution_count": 37,
     "metadata": {},
     "output_type": "execute_result"
    }
   ],
   "source": [
    "tup[::-1]"
   ]
  },
  {
   "cell_type": "code",
   "execution_count": 39,
   "id": "cef78264-e7e7-41cb-be1f-373eb677d11a",
   "metadata": {},
   "outputs": [],
   "source": [
    "tup1= (2,(20,30,40),'abc',3.4)"
   ]
  },
  {
   "cell_type": "code",
   "execution_count": 42,
   "id": "36ad9421-268d-427f-bf9a-e74670768768",
   "metadata": {},
   "outputs": [
    {
     "data": {
      "text/plain": [
       "(20, 30, 40)"
      ]
     },
     "execution_count": 42,
     "metadata": {},
     "output_type": "execute_result"
    }
   ],
   "source": [
    "tup1[1]"
   ]
  },
  {
   "cell_type": "markdown",
   "id": "31cfa0df-002e-4f9e-a06e-2bda0b3b729c",
   "metadata": {},
   "source": [
    "+ String"
   ]
  },
  {
   "cell_type": "code",
   "execution_count": 44,
   "id": "37fba077-b968-4718-9412-b960a118eb96",
   "metadata": {},
   "outputs": [],
   "source": [
    "a = 'I Love Python'"
   ]
  },
  {
   "cell_type": "code",
   "execution_count": 45,
   "id": "bb935096-bb1a-4e53-b276-9fd2d449b2bf",
   "metadata": {},
   "outputs": [
    {
     "data": {
      "text/plain": [
       "[(0, 'I'),\n",
       " (1, ' '),\n",
       " (2, 'L'),\n",
       " (3, 'o'),\n",
       " (4, 'v'),\n",
       " (5, 'e'),\n",
       " (6, ' '),\n",
       " (7, 'P'),\n",
       " (8, 'y'),\n",
       " (9, 't'),\n",
       " (10, 'h'),\n",
       " (11, 'o'),\n",
       " (12, 'n')]"
      ]
     },
     "execution_count": 45,
     "metadata": {},
     "output_type": "execute_result"
    }
   ],
   "source": [
    "list(enumerate(a))"
   ]
  },
  {
   "cell_type": "code",
   "execution_count": 46,
   "id": "fbf0512a-0624-44c8-9688-a0722d1a7ead",
   "metadata": {},
   "outputs": [
    {
     "data": {
      "text/plain": [
       "'Love Pyt'"
      ]
     },
     "execution_count": 46,
     "metadata": {},
     "output_type": "execute_result"
    }
   ],
   "source": [
    "a[2:10]"
   ]
  },
  {
   "cell_type": "code",
   "execution_count": 47,
   "id": "54f82eac-d3d0-4b97-a944-07082cc3cc27",
   "metadata": {},
   "outputs": [
    {
     "data": {
      "text/plain": [
       "'nohtyP evoL I'"
      ]
     },
     "execution_count": 47,
     "metadata": {},
     "output_type": "execute_result"
    }
   ],
   "source": [
    "a[::-1]"
   ]
  },
  {
   "cell_type": "markdown",
   "id": "1aef489e-afba-4423-bbfc-a08975e223c7",
   "metadata": {},
   "source": [
    "#### Iterable"
   ]
  },
  {
   "cell_type": "markdown",
   "id": "cf39c326-d272-46cc-a7fe-04e78fa2dd49",
   "metadata": {},
   "source": [
    "+ Example:\n",
    "  ###### lst=['Apple','Orange','Grapes','Kiwi']\n",
    "  ###### for x in lst:\n",
    "     ###### print(x) --> Apple\n",
    "  ###### Orange\n",
    "  ###### Grapes\n",
    "  ###### Kiwi\n",
    "  \n",
    "  \n",
    "  #### For loop is used to loop over a collection.\n",
    "  "
   ]
  },
  {
   "cell_type": "code",
   "execution_count": 1,
   "id": "8a299461-e651-4bd1-93a6-c20491a96e95",
   "metadata": {},
   "outputs": [],
   "source": [
    "lst=['Apple','Orange','Kiwi','Plum','Banana']\n"
   ]
  },
  {
   "cell_type": "code",
   "execution_count": 2,
   "id": "f7b732de-b2f9-4652-919d-940732ba656d",
   "metadata": {},
   "outputs": [
    {
     "name": "stdout",
     "output_type": "stream",
     "text": [
      "Apple\n",
      "Orange\n",
      "Kiwi\n",
      "Plum\n",
      "Banana\n",
      "--------\n"
     ]
    }
   ],
   "source": [
    "for elem in lst:\n",
    "    print(elem)\n",
    "print('--------')"
   ]
  },
  {
   "cell_type": "code",
   "execution_count": 4,
   "id": "8eb27071-6558-4696-89e1-2c9aa2b996c6",
   "metadata": {},
   "outputs": [
    {
     "name": "stdout",
     "output_type": "stream",
     "text": [
      "Apple\n",
      "--------\n",
      "Orange\n",
      "--------\n",
      "Kiwi\n",
      "--------\n",
      "Plum\n",
      "--------\n",
      "Banana\n",
      "--------\n",
      "Finished\n"
     ]
    }
   ],
   "source": [
    "for elem in lst:\n",
    "    print(elem)\n",
    "    print('--------')\n",
    "print(\"Finished\")"
   ]
  },
  {
   "cell_type": "code",
   "execution_count": 5,
   "id": "c5e15dc7-8a8d-48de-8e42-36c765e2a741",
   "metadata": {},
   "outputs": [],
   "source": [
    "## List and Tuple are hetrogeneous\n",
    "\n",
    "tup=(1,'abc',6.7,True,[1,2,3],(11,22,33))"
   ]
  },
  {
   "cell_type": "code",
   "execution_count": 6,
   "id": "7a4b9c8d-3a3c-48e3-9f64-661b8bf86504",
   "metadata": {},
   "outputs": [
    {
     "name": "stdout",
     "output_type": "stream",
     "text": [
      "1\n",
      "abc\n",
      "6.7\n",
      "True\n",
      "[1, 2, 3]\n",
      "(11, 22, 33)\n"
     ]
    }
   ],
   "source": [
    "for item in tup:\n",
    "    print(item)"
   ]
  },
  {
   "cell_type": "code",
   "execution_count": 7,
   "id": "c136ea2a-00c1-4d68-9fc0-9392290e947c",
   "metadata": {},
   "outputs": [],
   "source": [
    "mystr='Python'"
   ]
  },
  {
   "cell_type": "code",
   "execution_count": 8,
   "id": "ce1733a7-917f-4773-a25e-1b55334f47d0",
   "metadata": {},
   "outputs": [
    {
     "name": "stdout",
     "output_type": "stream",
     "text": [
      "P\n",
      "y\n",
      "t\n",
      "h\n",
      "o\n",
      "n\n"
     ]
    }
   ],
   "source": [
    "for c in mystr:\n",
    "    print(c)"
   ]
  },
  {
   "cell_type": "markdown",
   "id": "570bbf32-bcd3-4865-a695-719d618b5191",
   "metadata": {},
   "source": [
    "##### Immutablilty"
   ]
  },
  {
   "cell_type": "code",
   "execution_count": 9,
   "id": "9a498ae7-dd85-4f50-a8c1-e4d6268ac7d0",
   "metadata": {},
   "outputs": [
    {
     "data": {
      "text/plain": [
       "140708888953928"
      ]
     },
     "execution_count": 9,
     "metadata": {},
     "output_type": "execute_result"
    }
   ],
   "source": [
    "x=10\n",
    "id(x)"
   ]
  },
  {
   "cell_type": "code",
   "execution_count": 10,
   "id": "500fb07f-0ddc-4464-ae81-81bfe6b331a7",
   "metadata": {},
   "outputs": [
    {
     "data": {
      "text/plain": [
       "140708888954248"
      ]
     },
     "execution_count": 10,
     "metadata": {},
     "output_type": "execute_result"
    }
   ],
   "source": [
    "x=20\n",
    "id(x)"
   ]
  },
  {
   "cell_type": "markdown",
   "id": "49221bf1-a25c-4e26-84c3-56b839db9bec",
   "metadata": {},
   "source": [
    "#### Special Method of List"
   ]
  },
  {
   "cell_type": "code",
   "execution_count": 11,
   "id": "e50fdf66-6bc8-45b2-9ed5-0db31f68ae95",
   "metadata": {},
   "outputs": [],
   "source": [
    "lst=[1,2,3]"
   ]
  },
  {
   "cell_type": "code",
   "execution_count": 13,
   "id": "3e93b064-4b1b-4d2a-bb77-88ec4f01a7a9",
   "metadata": {},
   "outputs": [
    {
     "data": {
      "text/plain": [
       "[1, 2, 3, 40, 40]"
      ]
     },
     "execution_count": 13,
     "metadata": {},
     "output_type": "execute_result"
    }
   ],
   "source": [
    "lst.append(40)\n",
    "lst"
   ]
  },
  {
   "cell_type": "code",
   "execution_count": 14,
   "id": "df81da10-2de2-49cf-a704-f68e698d5968",
   "metadata": {},
   "outputs": [
    {
     "data": {
      "text/plain": [
       "5"
      ]
     },
     "execution_count": 14,
     "metadata": {},
     "output_type": "execute_result"
    }
   ],
   "source": [
    "len(lst)"
   ]
  },
  {
   "cell_type": "code",
   "execution_count": 16,
   "id": "19419231-b86f-41ac-a223-ea0628835449",
   "metadata": {},
   "outputs": [
    {
     "data": {
      "text/plain": [
       "[1, 2, 3, 40, 40, [11, 22], [11, 22]]"
      ]
     },
     "execution_count": 16,
     "metadata": {},
     "output_type": "execute_result"
    }
   ],
   "source": [
    "lst.append([11,22])\n",
    "lst"
   ]
  },
  {
   "cell_type": "code",
   "execution_count": 17,
   "id": "ec52cebf-4ef9-44c3-b412-ecaf3bcc5241",
   "metadata": {},
   "outputs": [
    {
     "data": {
      "text/plain": [
       "7"
      ]
     },
     "execution_count": 17,
     "metadata": {},
     "output_type": "execute_result"
    }
   ],
   "source": [
    "len(lst)"
   ]
  },
  {
   "cell_type": "code",
   "execution_count": 18,
   "id": "6f9e7baf-e96d-4edb-9cae-bc011e07b1d7",
   "metadata": {},
   "outputs": [
    {
     "data": {
      "text/plain": [
       "[1, 2, 33, 40, 40, [11, 22], [11, 22]]"
      ]
     },
     "execution_count": 18,
     "metadata": {},
     "output_type": "execute_result"
    }
   ],
   "source": [
    "lst[2]=33\n",
    "lst"
   ]
  },
  {
   "cell_type": "code",
   "execution_count": 19,
   "id": "69cbe390-efb5-4dee-ad16-34abfc497484",
   "metadata": {},
   "outputs": [
    {
     "data": {
      "text/plain": [
       "[1, 2, 33, 100, 40, 40, [11, 22], [11, 22]]"
      ]
     },
     "execution_count": 19,
     "metadata": {},
     "output_type": "execute_result"
    }
   ],
   "source": [
    "lst.insert(3,100)\n",
    "lst"
   ]
  },
  {
   "cell_type": "code",
   "execution_count": 21,
   "id": "140e332c-4c89-4202-a19e-077a042e8185",
   "metadata": {},
   "outputs": [
    {
     "data": {
      "text/plain": [
       "[1, 2, 33, 40, [11, 22], [11, 22]]"
      ]
     },
     "execution_count": 21,
     "metadata": {},
     "output_type": "execute_result"
    }
   ],
   "source": [
    "del lst[3]\n",
    "lst"
   ]
  },
  {
   "cell_type": "code",
   "execution_count": 24,
   "id": "2e7a5e39-e1d9-4e44-bfb8-1301163fe799",
   "metadata": {},
   "outputs": [
    {
     "data": {
      "text/plain": [
       "[1, 2, 33, 40, [], [11, 22]]"
      ]
     },
     "execution_count": 24,
     "metadata": {},
     "output_type": "execute_result"
    }
   ],
   "source": [
    "del lst[4][0]\n",
    "lst"
   ]
  },
  {
   "cell_type": "code",
   "execution_count": 25,
   "id": "4e746fe0-6e46-43c0-9fe6-24b6e97fa6d2",
   "metadata": {},
   "outputs": [
    {
     "data": {
      "text/plain": [
       "[1, 2, 33, 40, []]"
      ]
     },
     "execution_count": 25,
     "metadata": {},
     "output_type": "execute_result"
    }
   ],
   "source": [
    "lst.pop()\n",
    "lst"
   ]
  },
  {
   "cell_type": "code",
   "execution_count": 26,
   "id": "fbd43905-6bbf-4295-b9a9-bc57a98bd7b4",
   "metadata": {},
   "outputs": [],
   "source": [
    "lst=[12,43,23,54,69,73,67,89,98,99]"
   ]
  },
  {
   "cell_type": "code",
   "execution_count": 27,
   "id": "010ef94a-c22a-471e-aa48-d7224eb37105",
   "metadata": {},
   "outputs": [
    {
     "data": {
      "text/plain": [
       "[12, 43, 23, 54, 69, 73, 67, 89, 98]"
      ]
     },
     "execution_count": 27,
     "metadata": {},
     "output_type": "execute_result"
    }
   ],
   "source": [
    "lst.pop()\n",
    "lst"
   ]
  },
  {
   "cell_type": "code",
   "execution_count": 28,
   "id": "8320475b-dccd-4824-a4fb-08c85c1c9537",
   "metadata": {},
   "outputs": [
    {
     "data": {
      "text/plain": [
       "[12, 23, 54, 69, 73, 67, 89, 98]"
      ]
     },
     "execution_count": 28,
     "metadata": {},
     "output_type": "execute_result"
    }
   ],
   "source": [
    "lst.pop(1)\n",
    "lst"
   ]
  },
  {
   "cell_type": "code",
   "execution_count": 30,
   "id": "93665af2-87dd-45a5-8fe9-e1246ce193e5",
   "metadata": {},
   "outputs": [
    {
     "data": {
      "text/plain": [
       "[]"
      ]
     },
     "execution_count": 30,
     "metadata": {},
     "output_type": "execute_result"
    }
   ],
   "source": [
    "lst.clear()\n",
    "lst"
   ]
  },
  {
   "cell_type": "markdown",
   "id": "0e8bb121-b642-447f-bbb5-156c16b8d04a",
   "metadata": {},
   "source": [
    "#### Reverse a list"
   ]
  },
  {
   "cell_type": "code",
   "execution_count": 31,
   "id": "618d61c7-20c0-4d0c-baa4-97b994430dde",
   "metadata": {},
   "outputs": [
    {
     "data": {
      "text/plain": [
       "[1, 90, 89, 67, 45, 22]"
      ]
     },
     "execution_count": 31,
     "metadata": {},
     "output_type": "execute_result"
    }
   ],
   "source": [
    "lst=[22,45,67,89,90,1]\n",
    "lst.reverse()\n",
    "lst"
   ]
  },
  {
   "cell_type": "code",
   "execution_count": 33,
   "id": "7fbae577-86ff-4ae4-adf5-d86171d18256",
   "metadata": {},
   "outputs": [],
   "source": [
    "lst=[22,45,67,89,90,1]"
   ]
  },
  {
   "cell_type": "code",
   "execution_count": 34,
   "id": "95f66baf-37a8-4331-9e6f-c3586dfe0faa",
   "metadata": {},
   "outputs": [
    {
     "data": {
      "text/plain": [
       "[1, 90, 89, 67, 45, 22]"
      ]
     },
     "execution_count": 34,
     "metadata": {},
     "output_type": "execute_result"
    }
   ],
   "source": [
    "lst[::-1]"
   ]
  },
  {
   "cell_type": "markdown",
   "id": "10a8b63f-5729-4369-9c91-ff75c38dd1df",
   "metadata": {},
   "source": [
    "#### Sort a List"
   ]
  },
  {
   "cell_type": "code",
   "execution_count": 35,
   "id": "1a19c320-3b5d-4032-a912-67fb8b54830f",
   "metadata": {},
   "outputs": [],
   "source": [
    "lst=[22,45,67,89,90,1]\n",
    "lst.sort()"
   ]
  },
  {
   "cell_type": "code",
   "execution_count": 36,
   "id": "72672ded-59db-4fbc-a1a3-9e2b5a54fb09",
   "metadata": {},
   "outputs": [
    {
     "data": {
      "text/plain": [
       "[1, 22, 45, 67, 89, 90]"
      ]
     },
     "execution_count": 36,
     "metadata": {},
     "output_type": "execute_result"
    }
   ],
   "source": [
    "lst"
   ]
  },
  {
   "cell_type": "code",
   "execution_count": 37,
   "id": "85b1a200-e796-4569-b37a-2c4a9bc12fa0",
   "metadata": {},
   "outputs": [],
   "source": [
    "## for descending order \n",
    "\n",
    "lst=[22,45,67,89,90,1]\n",
    "lst.sort(reverse=True)"
   ]
  },
  {
   "cell_type": "code",
   "execution_count": 38,
   "id": "8e639489-a145-4c92-9869-56a2dce61a93",
   "metadata": {},
   "outputs": [
    {
     "data": {
      "text/plain": [
       "[90, 89, 67, 45, 22, 1]"
      ]
     },
     "execution_count": 38,
     "metadata": {},
     "output_type": "execute_result"
    }
   ],
   "source": [
    "lst"
   ]
  },
  {
   "cell_type": "code",
   "execution_count": 39,
   "id": "64cbc718-abd9-4f3d-b585-e8e845e725b8",
   "metadata": {},
   "outputs": [
    {
     "data": {
      "text/plain": [
       "['Apple', 'Banana', 'Kiwi', 'Orange', 'Plum']"
      ]
     },
     "execution_count": 39,
     "metadata": {},
     "output_type": "execute_result"
    }
   ],
   "source": [
    "lst=['Apple','Orange','Kiwi','Plum','Banana']\n",
    "lst.sort()\n",
    "lst"
   ]
  },
  {
   "cell_type": "code",
   "execution_count": 43,
   "id": "00a8b098-b14f-498b-acb7-ad6d1b01cb97",
   "metadata": {},
   "outputs": [
    {
     "ename": "TypeError",
     "evalue": "'<' not supported between instances of 'str' and 'float'",
     "output_type": "error",
     "traceback": [
      "\u001b[1;31m---------------------------------------------------------------------------\u001b[0m",
      "\u001b[1;31mTypeError\u001b[0m                                 Traceback (most recent call last)",
      "Cell \u001b[1;32mIn[43], line 2\u001b[0m\n\u001b[0;32m      1\u001b[0m my_lst\u001b[38;5;241m=\u001b[39m[\u001b[38;5;241m1\u001b[39m,\u001b[38;5;241m2.0\u001b[39m,\u001b[38;5;124m'\u001b[39m\u001b[38;5;124mabc\u001b[39m\u001b[38;5;124m'\u001b[39m,[\u001b[38;5;241m12\u001b[39m,\u001b[38;5;241m11\u001b[39m,\u001b[38;5;241m13\u001b[39m]]\n\u001b[1;32m----> 2\u001b[0m my_lst\u001b[38;5;241m.\u001b[39msort()\n\u001b[0;32m      3\u001b[0m my_lst\n",
      "\u001b[1;31mTypeError\u001b[0m: '<' not supported between instances of 'str' and 'float'"
     ]
    }
   ],
   "source": [
    "my_lst=[1,2.0,'abc',[12,11,13]]\n",
    "my_lst.sort()\n",
    "my_lst"
   ]
  },
  {
   "cell_type": "markdown",
   "id": "c48239b4-cadd-4cf1-9ba2-4d0be9548adc",
   "metadata": {},
   "source": [
    "#### List Comprehension "
   ]
  },
  {
   "cell_type": "code",
   "execution_count": 47,
   "id": "638ccc72-35b2-455e-bc43-71a0cf67d399",
   "metadata": {},
   "outputs": [
    {
     "name": "stdout",
     "output_type": "stream",
     "text": [
      "1\n",
      "2\n",
      "3\n",
      "4\n",
      "5\n"
     ]
    }
   ],
   "source": [
    "for elem in range(1,6):\n",
    "    print(elem)"
   ]
  },
  {
   "cell_type": "code",
   "execution_count": 44,
   "id": "124e2213-61d4-4648-b650-5e06b1a4b738",
   "metadata": {},
   "outputs": [
    {
     "data": {
      "text/plain": [
       "[1, 4, 9, 16, 25]"
      ]
     },
     "execution_count": 44,
     "metadata": {},
     "output_type": "execute_result"
    }
   ],
   "source": [
    "## Traditional approach \n",
    "squares=[]\n",
    "for num in range(1,6):\n",
    "    squares.append(num**2)\n",
    "squares"
   ]
  },
  {
   "cell_type": "code",
   "execution_count": 45,
   "id": "0843b78a-5da5-4cac-8d8a-fd87ce5d04d5",
   "metadata": {},
   "outputs": [
    {
     "data": {
      "text/plain": [
       "[1, 4, 9, 16, 25]"
      ]
     },
     "execution_count": 45,
     "metadata": {},
     "output_type": "execute_result"
    }
   ],
   "source": [
    "## List Comperehension\n",
    "\n",
    "new_sq= [num**2 for num in range(1,6)]\n",
    "new_sq"
   ]
  },
  {
   "cell_type": "code",
   "execution_count": 46,
   "id": "f2893cdd-30f3-48fd-99da-8fc85cd8bf0d",
   "metadata": {},
   "outputs": [
    {
     "data": {
      "text/plain": [
       "[100, 200, 300, 400, 500]"
      ]
     },
     "execution_count": 46,
     "metadata": {},
     "output_type": "execute_result"
    }
   ],
   "source": [
    "new_lst=[elem*100 for elem in[1,2,3,4,5]]\n",
    "new_lst"
   ]
  },
  {
   "cell_type": "markdown",
   "id": "7ac3f0da-66bd-40b7-a8f2-b327acfad1c3",
   "metadata": {},
   "source": [
    "#### Tuple"
   ]
  },
  {
   "cell_type": "code",
   "execution_count": 49,
   "id": "886a3164-0748-45bb-820a-6e07f9e9bc0a",
   "metadata": {},
   "outputs": [
    {
     "data": {
      "text/plain": [
       "([1, 2, 3], 8, 9, 11)"
      ]
     },
     "execution_count": 49,
     "metadata": {},
     "output_type": "execute_result"
    }
   ],
   "source": [
    "tup= ([1,2,3],8,9,11)\n",
    "tup"
   ]
  },
  {
   "cell_type": "code",
   "execution_count": 50,
   "id": "7e4f9e8e-5b20-4fe8-b205-d64da92d2801",
   "metadata": {},
   "outputs": [
    {
     "ename": "TypeError",
     "evalue": "'tuple' object does not support item assignment",
     "output_type": "error",
     "traceback": [
      "\u001b[1;31m---------------------------------------------------------------------------\u001b[0m",
      "\u001b[1;31mTypeError\u001b[0m                                 Traceback (most recent call last)",
      "Cell \u001b[1;32mIn[50], line 1\u001b[0m\n\u001b[1;32m----> 1\u001b[0m tup[\u001b[38;5;241m0\u001b[39m]\u001b[38;5;241m=\u001b[39m\u001b[38;5;241m33\u001b[39m\n",
      "\u001b[1;31mTypeError\u001b[0m: 'tuple' object does not support item assignment"
     ]
    }
   ],
   "source": [
    "tup[0]=33b"
   ]
  },
  {
   "cell_type": "code",
   "execution_count": 51,
   "id": "af33fdce-1769-44b7-8ddc-76d9db90e8b6",
   "metadata": {},
   "outputs": [
    {
     "ename": "AttributeError",
     "evalue": "'int' object has no attribute 'append'",
     "output_type": "error",
     "traceback": [
      "\u001b[1;31m---------------------------------------------------------------------------\u001b[0m",
      "\u001b[1;31mAttributeError\u001b[0m                            Traceback (most recent call last)",
      "Cell \u001b[1;32mIn[51], line 1\u001b[0m\n\u001b[1;32m----> 1\u001b[0m tup[\u001b[38;5;241m1\u001b[39m]\u001b[38;5;241m.\u001b[39mappend(\u001b[38;5;241m99\u001b[39m)\n",
      "\u001b[1;31mAttributeError\u001b[0m: 'int' object has no attribute 'append'"
     ]
    }
   ],
   "source": [
    "tup[1].append(99)"
   ]
  },
  {
   "cell_type": "markdown",
   "id": "c361b3db-2f65-4e16-ae3f-1faaf2667ebc",
   "metadata": {},
   "source": [
    "#### String"
   ]
  },
  {
   "cell_type": "code",
   "execution_count": 58,
   "id": "474fd350-5dbb-4384-869a-fa8904ce473c",
   "metadata": {},
   "outputs": [],
   "source": [
    "str1= 'pyhton'"
   ]
  },
  {
   "cell_type": "code",
   "execution_count": 59,
   "id": "afb749be-aab0-4275-8b49-913d5c8d75e7",
   "metadata": {},
   "outputs": [],
   "source": [
    "str2='hello world'"
   ]
  },
  {
   "cell_type": "code",
   "execution_count": 60,
   "id": "c785edd0-bbd0-4ff6-a826-b29a8cdfaeb2",
   "metadata": {},
   "outputs": [
    {
     "data": {
      "text/plain": [
       "'Pyhton'"
      ]
     },
     "execution_count": 60,
     "metadata": {},
     "output_type": "execute_result"
    }
   ],
   "source": [
    "str1.capitalize()"
   ]
  },
  {
   "cell_type": "code",
   "execution_count": 62,
   "id": "6f0dd2d6-6163-4b7f-8c90-5bfde904a726",
   "metadata": {},
   "outputs": [
    {
     "data": {
      "text/plain": [
       "'Hello World'"
      ]
     },
     "execution_count": 62,
     "metadata": {},
     "output_type": "execute_result"
    }
   ],
   "source": [
    "str2.title()"
   ]
  },
  {
   "cell_type": "code",
   "execution_count": 64,
   "id": "f3f6574f-677a-4c93-94ed-a9c800af0e41",
   "metadata": {},
   "outputs": [
    {
     "data": {
      "text/plain": [
       "(True, False)"
      ]
     },
     "execution_count": 64,
     "metadata": {},
     "output_type": "execute_result"
    }
   ],
   "source": [
    "str1.startswith('py'), str1.startswith('fy')"
   ]
  },
  {
   "cell_type": "code",
   "execution_count": 65,
   "id": "19623f05-d077-4a20-9485-64cdcfc39f76",
   "metadata": {},
   "outputs": [
    {
     "data": {
      "text/plain": [
       "(True, False)"
      ]
     },
     "execution_count": 65,
     "metadata": {},
     "output_type": "execute_result"
    }
   ],
   "source": [
    "str1.endswith('on'),str1.endswith('fy')"
   ]
  },
  {
   "cell_type": "code",
   "execution_count": 66,
   "id": "c0327831-82f7-452d-afaf-cf676789e7e7",
   "metadata": {},
   "outputs": [],
   "source": [
    "my_str='pythonista'"
   ]
  },
  {
   "cell_type": "code",
   "execution_count": 68,
   "id": "fca9727d-ccf6-480d-9c85-e93d9515c737",
   "metadata": {},
   "outputs": [
    {
     "data": {
      "text/plain": [
       "[(0, 'p'),\n",
       " (1, 'y'),\n",
       " (2, 't'),\n",
       " (3, 'h'),\n",
       " (4, 'o'),\n",
       " (5, 'n'),\n",
       " (6, 'i'),\n",
       " (7, 's'),\n",
       " (8, 't'),\n",
       " (9, 'a')]"
      ]
     },
     "execution_count": 68,
     "metadata": {},
     "output_type": "execute_result"
    }
   ],
   "source": [
    "list(enumerate(my_str))"
   ]
  },
  {
   "cell_type": "code",
   "execution_count": 69,
   "id": "7f637d50-fbb6-4061-ae81-f1ed19f9a016",
   "metadata": {},
   "outputs": [
    {
     "data": {
      "text/plain": [
       "2"
      ]
     },
     "execution_count": 69,
     "metadata": {},
     "output_type": "execute_result"
    }
   ],
   "source": [
    "my_str.find('t')"
   ]
  },
  {
   "cell_type": "code",
   "execution_count": 70,
   "id": "9ea7e7fe-a103-4a84-9f9b-c823f8d37321",
   "metadata": {},
   "outputs": [],
   "source": [
    "my_str='1234'"
   ]
  },
  {
   "cell_type": "code",
   "execution_count": 71,
   "id": "41793d53-dd77-4689-8342-918f8c2da65b",
   "metadata": {},
   "outputs": [
    {
     "data": {
      "text/plain": [
       "(False, True, True)"
      ]
     },
     "execution_count": 71,
     "metadata": {},
     "output_type": "execute_result"
    }
   ],
   "source": [
    "my_str.isalpha(),my_str.isalnum(),my_str.isnumeric()"
   ]
  },
  {
   "cell_type": "code",
   "execution_count": 72,
   "id": "9f4b5136-6453-4ae2-b8fe-65368f839f51",
   "metadata": {},
   "outputs": [],
   "source": [
    "my_str='pyhton3'"
   ]
  },
  {
   "cell_type": "code",
   "execution_count": 73,
   "id": "e9db54c0-fcdc-400e-8bcd-0db491e4dd7b",
   "metadata": {},
   "outputs": [
    {
     "data": {
      "text/plain": [
       "(False, True, False)"
      ]
     },
     "execution_count": 73,
     "metadata": {},
     "output_type": "execute_result"
    }
   ],
   "source": [
    "my_str.isalpha(),my_str.isalnum(),my_str.isnumeric()"
   ]
  },
  {
   "cell_type": "code",
   "execution_count": 74,
   "id": "abd92744-4f59-4494-be58-4ebddb2b0548",
   "metadata": {},
   "outputs": [],
   "source": [
    "my_str='python$'"
   ]
  },
  {
   "cell_type": "code",
   "execution_count": 75,
   "id": "2a47b7fd-dea5-4446-b45e-a4731d54da31",
   "metadata": {},
   "outputs": [
    {
     "data": {
      "text/plain": [
       "(False, False, False)"
      ]
     },
     "execution_count": 75,
     "metadata": {},
     "output_type": "execute_result"
    }
   ],
   "source": [
    "my_str.isalpha(),my_str.isalnum(),my_str.isnumeric()"
   ]
  },
  {
   "cell_type": "code",
   "execution_count": 76,
   "id": "72fad7fe-d797-4bc3-ba98-b3c5b092ce6b",
   "metadata": {},
   "outputs": [
    {
     "data": {
      "text/plain": [
       "(True, False)"
      ]
     },
     "execution_count": 76,
     "metadata": {},
     "output_type": "execute_result"
    }
   ],
   "source": [
    "'python'.islower(),'Pyhton'.islower()"
   ]
  },
  {
   "cell_type": "code",
   "execution_count": 77,
   "id": "221fdc59-8de1-4dc2-8ea1-6717caaf800b",
   "metadata": {},
   "outputs": [
    {
     "data": {
      "text/plain": [
       "('python', 'PYTHON', 'pYHTON')"
      ]
     },
     "execution_count": 77,
     "metadata": {},
     "output_type": "execute_result"
    }
   ],
   "source": [
    "'Python'.lower(),'python'.upper(),'Pyhton'.swapcase()"
   ]
  },
  {
   "cell_type": "code",
   "execution_count": 78,
   "id": "f24bc5df-c3ba-408b-83c7-0998c2bdd0f7",
   "metadata": {},
   "outputs": [
    {
     "data": {
      "text/plain": [
       "(False, True)"
      ]
     },
     "execution_count": 78,
     "metadata": {},
     "output_type": "execute_result"
    }
   ],
   "source": [
    "''.isspace(),' '.isspace()"
   ]
  },
  {
   "cell_type": "code",
   "execution_count": 80,
   "id": "65c3731e-bc18-41d8-9878-5ccf86f97607",
   "metadata": {},
   "outputs": [
    {
     "data": {
      "text/plain": [
       "('Pyhton', '     Pyhton', 'Pyhton    ')"
      ]
     },
     "execution_count": 80,
     "metadata": {},
     "output_type": "execute_result"
    }
   ],
   "source": [
    "'     Pyhton    '.strip(),'     Pyhton    '.rstrip(),'     Pyhton    '.lstrip()"
   ]
  },
  {
   "cell_type": "code",
   "execution_count": 82,
   "id": "dc26f9b4-c8ec-4134-a318-f68826bd0fc9",
   "metadata": {},
   "outputs": [
    {
     "data": {
      "text/plain": [
       "['apple', 'orange', 'kiwi', 'banana']"
      ]
     },
     "execution_count": 82,
     "metadata": {},
     "output_type": "execute_result"
    }
   ],
   "source": [
    "'apple,orange,kiwi,banana'.split(',')"
   ]
  },
  {
   "cell_type": "code",
   "execution_count": 84,
   "id": "341c788e-a08f-4e3a-8400-715d7a5cd96f",
   "metadata": {},
   "outputs": [
    {
     "data": {
      "text/plain": [
       "['apple,orange', 'kiwi', 'banana']"
      ]
     },
     "execution_count": 84,
     "metadata": {},
     "output_type": "execute_result"
    }
   ],
   "source": [
    "'apple,orange;kiwi;banana'.split(';')"
   ]
  },
  {
   "cell_type": "code",
   "execution_count": null,
   "id": "0a037152-4e80-4584-9d2f-c8dae1523da7",
   "metadata": {},
   "outputs": [],
   "source": []
  }
 ],
 "metadata": {
  "kernelspec": {
   "display_name": "Python 3 (ipykernel)",
   "language": "python",
   "name": "python3"
  },
  "language_info": {
   "codemirror_mode": {
    "name": "ipython",
    "version": 3
   },
   "file_extension": ".py",
   "mimetype": "text/x-python",
   "name": "python",
   "nbconvert_exporter": "python",
   "pygments_lexer": "ipython3",
   "version": "3.11.7"
  }
 },
 "nbformat": 4,
 "nbformat_minor": 5
}
